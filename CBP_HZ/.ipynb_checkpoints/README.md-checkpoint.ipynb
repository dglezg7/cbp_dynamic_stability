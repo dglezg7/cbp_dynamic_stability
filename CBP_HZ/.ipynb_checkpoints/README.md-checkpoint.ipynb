{
 "cells": [
  {
   "cell_type": "markdown",
   "metadata": {},
   "source": [
    "# Dynamic constraints of circumbinary planets orbiting binary stars\n",
    "\n",
    "## Overview\n",
    "\n",
    "We model the critical semi-major axis of p-type identical binary stars and how the stability limits for each binary eccentricity prevent planets from surviving in their habitable zones. \n",
    "\n",
    "| **Date** | 12/14/2019 |\n",
    "| **Author** | David Graham |\n",
    "| **Modules** |  INARY      |\n",
    "| **Approx. runtime** |"
   ]
  },
  {
   "cell_type": "markdown",
   "metadata": {},
   "source": []
  },
  {
   "cell_type": "code",
   "execution_count": null,
   "metadata": {
    "collapsed": true
   },
   "outputs": [],
   "source": []
  }
 ],
 "metadata": {
  "kernelspec": {
   "display_name": "Python 3",
   "language": "python",
   "name": "python3"
  },
  "language_info": {
   "codemirror_mode": {
    "name": "ipython",
    "version": 3
   },
   "file_extension": ".py",
   "mimetype": "text/x-python",
   "name": "python",
   "nbconvert_exporter": "python",
   "pygments_lexer": "ipython3",
   "version": "3.6.1"
  }
 },
 "nbformat": 4,
 "nbformat_minor": 2
}
