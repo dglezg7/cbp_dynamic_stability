{
 "cells": [
  {
   "cell_type": "code",
   "execution_count": null,
   "metadata": {
    "collapsed": true
   },
   "outputs": [],
   "source": [
    "from __future__ import division, print_function\n",
    "\n",
    "import matplotlib.pyplot as plt\n",
    "import matplotlib as mpl\n",
    "import numpy as np\n",
    "import vplot as vpl\n",
    "import sys\n",
    "\n",
    "\"\"\"\n",
    "\n",
    "# Check correct number of arguments\n",
    "if (len(sys.argv) != 2):\n",
    "    print('ERROR: Incorrect number of arguments.')\n",
    "    print('Usage: '+sys.argv[0]+' <pdf | png>')\n",
    "    exit(1)\n",
    "if (sys.argv[1] != 'pdf' and sys.argv[1] != 'png'):\n",
    "    print('ERROR: Unknown file format: '+sys.argv[1])\n",
    "    print('Options are: pdf, png')\n",
    "    exit(1)\n",
    "\n",
    "\"\"\"\n",
    "\n",
    "#Typical plot parameters that make for pretty plots\n",
    "mpl.rcParams['figure.figsize'] = (18,15)\n",
    "mpl.rcParams['font.size'] = 22.0\n",
    "\n",
    "fig, axes = plt.subplots(ncols=1, nrows=2, sharey=False)\n",
    "fig.set_size_inches(21,12)\n",
    "\n",
    "data = [\"0pt15_StellarMass\", \"0pt30_StellarMass\"]\n",
    "\n",
    "for sim in range(len(data)):\n",
    "    # Load data\n",
    "    output = vpl.GetOutput(data[sim])\n",
    "    \n",
    "    # Extract data\n",
    "    time = output.cbp.Time\n",
    "    hz_cbp_rg = output.cbp.HZLimitDryRunaway\n",
    "    hz_cbp_mg = output.cbp.HZLimMaxGreenhouse\n",
    "\n",
    "    a_crit = output.secondary.CriticalSemiMajorAxis\n",
    "\n",
    "    axes[sim].plot(time, a_crit, lw=4, ls = ls, label = r\"$a_{crit}$\", color = \"k\", zorder = 1)\n",
    "    \n",
    "    axes[sim].fill_between(time, 0, some_mass_values, #where = hz_cbp_rg >= hz_cbp_mg,\n",
    "                      color = vpl.colors.pale_blue, alpha = .5, label = \"CBP Habitable Zone\", zorder = 0) # shades pale blue in hz boundaries\n",
    "    #axes[sim].fill_between(hz_cbp_mg, 0, some_mass_values, \n",
    "     #                 color = \"white\", zorder = 1) #Prevents HZ color from appearing father from outer hz boundary\n",
    "    \n",
    "    #Format\n",
    "    axes[sim].set_xscale(\"log\")\n",
    "    axes[sim].set_xlabel(\"Time [yr]\", fontsize = 35)\n",
    "    axes[sim].set_xlim(1e+6, time.max())\n",
    "    #axes[1].set_ylim(0.157, 0.3)\n",
    "    axes[sim].set_ylabel(\"Semi-Major Axis [AU]\", fontsize = 35)\n",
    "    #axes[sim].set_yticks([0.02*i + 0.16 for i in range(8)])\n",
    "    axes[sim].tick_params(axis = 'both', which = 'major', labelsize = 28, width=3, length=9)\n",
    "    #axes[sim].legend(loc = (0.05, 0.05))\n",
    "    \n",
    "    \n",
    "    \n",
    "axes[0].legend(loc = \"lower left\")\n",
    "\n",
    "    "
   ]
  }
 ],
 "metadata": {
  "kernelspec": {
   "display_name": "Python 3",
   "language": "python",
   "name": "python3"
  },
  "language_info": {
   "codemirror_mode": {
    "name": "ipython",
    "version": 3
   },
   "file_extension": ".py",
   "mimetype": "text/x-python",
   "name": "python",
   "nbconvert_exporter": "python",
   "pygments_lexer": "ipython3",
   "version": "3.6.1"
  }
 },
 "nbformat": 4,
 "nbformat_minor": 2
}
